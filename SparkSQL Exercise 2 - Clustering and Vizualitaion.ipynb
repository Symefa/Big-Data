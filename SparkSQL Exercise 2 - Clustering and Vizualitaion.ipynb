{
 "cells": [
  {
   "cell_type": "markdown",
   "metadata": {},
   "source": [
    "# Tugas Clustering Apache Spark"
   ]
  },
  {
   "cell_type": "markdown",
   "metadata": {},
   "source": [
    "Datasets: [NYS Motor Vehicle Crashes and Insurance Reduction](https://www.kaggle.com/new-york-state/nys-motor-vehicle-crashes-and-insurance-reduction)"
   ]
  },
  {
   "cell_type": "markdown",
   "metadata": {},
   "source": [
    "### Initialization\n",
    "***"
   ]
  },
  {
   "cell_type": "code",
   "execution_count": 1,
   "metadata": {},
   "outputs": [],
   "source": [
    "import findspark\n",
    "\n",
    "findspark.init()"
   ]
  },
  {
   "cell_type": "code",
   "execution_count": 2,
   "metadata": {},
   "outputs": [],
   "source": [
    "from pyspark.sql import SparkSession\n",
    "\n",
    "spark = SparkSession \\\n",
    "    .builder \\\n",
    "    .appName(\"Python Spark SQL basic example\") \\\n",
    "    .getOrCreate()"
   ]
  },
  {
   "cell_type": "code",
   "execution_count": 3,
   "metadata": {
    "scrolled": true
   },
   "outputs": [
    {
     "name": "stdout",
     "output_type": "stream",
     "text": [
      "<pyspark.sql.session.SparkSession object at 0x000001F49CE9C160>\n"
     ]
    }
   ],
   "source": [
    "print(spark)"
   ]
  },
  {
   "cell_type": "markdown",
   "metadata": {},
   "source": [
    "### Loading datasets\n",
    "***"
   ]
  },
  {
   "cell_type": "code",
   "execution_count": 4,
   "metadata": {},
   "outputs": [
    {
     "data": {
      "text/plain": [
       "895916"
      ]
     },
     "execution_count": 4,
     "metadata": {},
     "output_type": "execute_result"
    }
   ],
   "source": [
    "df1 = spark.read.csv(\"C:/Users/Symefa/Desktop/Big-Data/datasets/crash.csv\", header=True, inferSchema=True)\n",
    "\n",
    "df1.count()"
   ]
  },
  {
   "cell_type": "markdown",
   "metadata": {},
   "source": [
    "### Schema Fix\n",
    "***"
   ]
  },
  {
   "cell_type": "code",
   "execution_count": 5,
   "metadata": {},
   "outputs": [
    {
     "name": "stdout",
     "output_type": "stream",
     "text": [
      "root\n",
      " |-- Year: integer (nullable = true)\n",
      " |-- Crash Descriptor: string (nullable = true)\n",
      " |-- Time: string (nullable = true)\n",
      " |-- Date: timestamp (nullable = true)\n",
      " |-- Day of Week: string (nullable = true)\n",
      " |-- Police Report: string (nullable = true)\n",
      " |-- Lighting Conditions: string (nullable = true)\n",
      " |-- Municipality: string (nullable = true)\n",
      " |-- Collision Type Descriptor: string (nullable = true)\n",
      " |-- County Name: string (nullable = true)\n",
      " |-- Road Descriptor: string (nullable = true)\n",
      " |-- Weather Conditions: string (nullable = true)\n",
      " |-- Traffic Control Device: string (nullable = true)\n",
      " |-- Road Surface Conditions: string (nullable = true)\n",
      " |-- DOT Reference Marker Location: string (nullable = true)\n",
      " |-- Pedestrian Bicyclist Action: string (nullable = true)\n",
      " |-- Event Descriptor: string (nullable = true)\n",
      " |-- Number of Vehicles Involved: integer (nullable = true)\n",
      "\n"
     ]
    }
   ],
   "source": [
    "df1.printSchema()"
   ]
  },
  {
   "cell_type": "markdown",
   "metadata": {},
   "source": [
    "### Converting To SparkSQL Datatype\n",
    "***"
   ]
  },
  {
   "cell_type": "code",
   "execution_count": 6,
   "metadata": {},
   "outputs": [],
   "source": [
    "df1.createOrReplaceTempView('crashes')"
   ]
  },
  {
   "cell_type": "markdown",
   "metadata": {},
   "source": [
    "### Clustering 1\n",
    "***"
   ]
  },
  {
   "cell_type": "markdown",
   "metadata": {},
   "source": [
    "* Ranking kecelakaan terjadi pada jam"
   ]
  },
  {
   "cell_type": "code",
   "execution_count": 7,
   "metadata": {
    "scrolled": true
   },
   "outputs": [
    {
     "name": "stdout",
     "output_type": "stream",
     "text": [
      "+----+---------------------------+----+------------+--------------------+\n",
      "|Year|Number of Vehicles Involved|Time|Municipality|    Event Descriptor|\n",
      "+----+---------------------------+----+------------+--------------------+\n",
      "|2016|                          1|0:00|    NEW YORK|Pedestrian, Colli...|\n",
      "|2016|                          1|0:00|      QUEENS|Pedestrian, Colli...|\n",
      "|2016|                          1|0:00|       KINGS|Pedestrian, Colli...|\n",
      "|2016|                          1|0:00|       KINGS|Pedestrian, Colli...|\n",
      "|2016|                          1|0:00|       BRONX|Pedestrian, Colli...|\n",
      "|2016|                          1|0:00|       BRONX|Pedestrian, Colli...|\n",
      "|2016|                          1|0:00|       KINGS|Pedestrian, Colli...|\n",
      "|2016|                          1|0:00|       KINGS|Pedestrian, Colli...|\n",
      "|2016|                          1|0:00|       KINGS|Pedestrian, Colli...|\n",
      "|2016|                          1|0:00|   ROCHESTER|Pedestrian, Colli...|\n",
      "|2016|                          1|0:00|    NEW YORK|Pedestrian, Colli...|\n",
      "|2016|                          1|0:00|      QUEENS|Pedestrian, Colli...|\n",
      "|2016|                          1|0:00|      QUEENS|Pedestrian, Colli...|\n",
      "|2016|                          1|0:00|      QUEENS|Pedestrian, Colli...|\n",
      "|2016|                          1|0:00|    NEW YORK|Pedestrian, Colli...|\n",
      "|2016|                          1|0:00|      QUEENS|Pedestrian, Colli...|\n",
      "|2016|                          1|0:00|      QUEENS|Pedestrian, Colli...|\n",
      "|2016|                          1|0:00|     BUFFALO|Pedestrian, Colli...|\n",
      "|2016|                          1|0:00|    NEW YORK|Pedestrian, Colli...|\n",
      "|2016|                          1|0:00|  LAKE GROVE|Pedestrian, Colli...|\n",
      "+----+---------------------------+----+------------+--------------------+\n",
      "only showing top 20 rows\n",
      "\n"
     ]
    }
   ],
   "source": [
    "query = spark.sql(\"SELECT `Year`,`Number of Vehicles Involved`,`Time`, `Municipality`, `Event Descriptor` \\\n",
    "          FROM crashes  \\\n",
    "          WHERE `Event Descriptor` LIKE 'Pedestrian%'\\\n",
    "          ORDER BY Time ASC\\\n",
    "          \")\n",
    "query.show()"
   ]
  },
  {
   "cell_type": "markdown",
   "metadata": {},
   "source": [
    "### Vectoring\n",
    "***"
   ]
  },
  {
   "cell_type": "code",
   "execution_count": 8,
   "metadata": {
    "scrolled": true
   },
   "outputs": [
    {
     "name": "stdout",
     "output_type": "stream",
     "text": [
      "+----+---------------------------+----+------------+--------------------+------------+\n",
      "|Year|Number of Vehicles Involved|Time|Municipality|    Event Descriptor|    features|\n",
      "+----+---------------------------+----+------------+--------------------+------------+\n",
      "|2015|                          1|0:00|       KINGS|Pedestrian, Colli...|[2015.0,1.0]|\n",
      "|2015|                          1|0:00|    NEW YORK|Pedestrian, Colli...|[2015.0,1.0]|\n",
      "|2015|                          1|0:00|    NEW YORK|Pedestrian, Colli...|[2015.0,1.0]|\n",
      "|2015|                          1|0:00|      QUEENS|Pedestrian, Colli...|[2015.0,1.0]|\n",
      "|2015|                          1|0:00|       KINGS|Pedestrian, Colli...|[2015.0,1.0]|\n",
      "|2015|                          1|0:00|    NEW YORK|Pedestrian, Colli...|[2015.0,1.0]|\n",
      "|2015|                          1|0:00|       KINGS|Pedestrian, Colli...|[2015.0,1.0]|\n",
      "|2015|                          1|0:00|       BRONX|Pedestrian, Colli...|[2015.0,1.0]|\n",
      "|2015|                          1|0:00|       KINGS|Pedestrian, Colli...|[2015.0,1.0]|\n",
      "|2015|                          1|0:00|    NEW YORK|Pedestrian, Colli...|[2015.0,1.0]|\n",
      "|2015|                          1|0:00|      QUEENS|Pedestrian, Colli...|[2015.0,1.0]|\n",
      "|2015|                          1|0:00|      QUEENS|Pedestrian, Colli...|[2015.0,1.0]|\n",
      "|2015|                          1|0:00|      QUEENS|Pedestrian, Colli...|[2015.0,1.0]|\n",
      "|2015|                          1|0:00|       KINGS|Pedestrian, Colli...|[2015.0,1.0]|\n",
      "|2015|                          1|0:00|       KINGS|Pedestrian, Colli...|[2015.0,1.0]|\n",
      "|2015|                          1|0:00|      QUEENS|Pedestrian, Colli...|[2015.0,1.0]|\n",
      "|2015|                          1|0:00|    NEW YORK|Pedestrian, Colli...|[2015.0,1.0]|\n",
      "|2015|                          1|0:00|       KINGS|Pedestrian, Colli...|[2015.0,1.0]|\n",
      "|2015|                          1|0:00|    OSSINING|Pedestrian, Colli...|[2015.0,1.0]|\n",
      "|2015|                          2|0:00|       KINGS|Pedestrian, Colli...|[2015.0,2.0]|\n",
      "+----+---------------------------+----+------------+--------------------+------------+\n",
      "only showing top 20 rows\n",
      "\n"
     ]
    }
   ],
   "source": [
    "from pyspark.ml.feature import VectorAssembler\n",
    "\n",
    "assembler = VectorAssembler(\n",
    "    inputCols=[\"Year\",\"Number of Vehicles Involved\"],\n",
    "    outputCol='features')\n",
    "\n",
    "query = assembler.transform(query)\n",
    "query.show()"
   ]
  },
  {
   "cell_type": "markdown",
   "metadata": {},
   "source": [
    "### kMeans\n",
    "***"
   ]
  },
  {
   "cell_type": "code",
   "execution_count": 9,
   "metadata": {},
   "outputs": [],
   "source": [
    "from pyspark.ml.clustering import KMeans\n",
    "\n",
    "kmeans = KMeans().setK(5).setSeed(1)\n",
    "model = kmeans.fit(query)"
   ]
  },
  {
   "cell_type": "markdown",
   "metadata": {},
   "source": [
    "### Markdown\n",
    "***"
   ]
  },
  {
   "cell_type": "code",
   "execution_count": 10,
   "metadata": {},
   "outputs": [
    {
     "name": "stdout",
     "output_type": "stream",
     "text": [
      "+----+---------------------------+----+------------+--------------------+------------+----------+\n",
      "|Year|Number of Vehicles Involved|Time|Municipality|    Event Descriptor|    features|prediction|\n",
      "+----+---------------------------+----+------------+--------------------+------------+----------+\n",
      "|2015|                          1|0:00|       KINGS|Pedestrian, Colli...|[2015.0,1.0]|         2|\n",
      "|2015|                          1|0:00|    NEW YORK|Pedestrian, Colli...|[2015.0,1.0]|         2|\n",
      "|2015|                          1|0:00|    NEW YORK|Pedestrian, Colli...|[2015.0,1.0]|         2|\n",
      "|2015|                          1|0:00|      QUEENS|Pedestrian, Colli...|[2015.0,1.0]|         2|\n",
      "|2015|                          1|0:00|       KINGS|Pedestrian, Colli...|[2015.0,1.0]|         2|\n",
      "|2015|                          1|0:00|    NEW YORK|Pedestrian, Colli...|[2015.0,1.0]|         2|\n",
      "|2015|                          1|0:00|       KINGS|Pedestrian, Colli...|[2015.0,1.0]|         2|\n",
      "|2015|                          1|0:00|       BRONX|Pedestrian, Colli...|[2015.0,1.0]|         2|\n",
      "|2015|                          1|0:00|       KINGS|Pedestrian, Colli...|[2015.0,1.0]|         2|\n",
      "|2015|                          1|0:00|    NEW YORK|Pedestrian, Colli...|[2015.0,1.0]|         2|\n",
      "|2015|                          1|0:00|      QUEENS|Pedestrian, Colli...|[2015.0,1.0]|         2|\n",
      "|2015|                          1|0:00|      QUEENS|Pedestrian, Colli...|[2015.0,1.0]|         2|\n",
      "|2015|                          1|0:00|      QUEENS|Pedestrian, Colli...|[2015.0,1.0]|         2|\n",
      "|2015|                          1|0:00|       KINGS|Pedestrian, Colli...|[2015.0,1.0]|         2|\n",
      "|2015|                          1|0:00|       KINGS|Pedestrian, Colli...|[2015.0,1.0]|         2|\n",
      "|2015|                          1|0:00|      QUEENS|Pedestrian, Colli...|[2015.0,1.0]|         2|\n",
      "|2015|                          1|0:00|    NEW YORK|Pedestrian, Colli...|[2015.0,1.0]|         2|\n",
      "|2015|                          1|0:00|       KINGS|Pedestrian, Colli...|[2015.0,1.0]|         2|\n",
      "|2015|                          1|0:00|    OSSINING|Pedestrian, Colli...|[2015.0,1.0]|         2|\n",
      "|2015|                          2|0:00|       KINGS|Pedestrian, Colli...|[2015.0,2.0]|         2|\n",
      "+----+---------------------------+----+------------+--------------------+------------+----------+\n",
      "only showing top 20 rows\n",
      "\n"
     ]
    }
   ],
   "source": [
    "prediction = model.transform(query)\n",
    "prediction.show()"
   ]
  },
  {
   "cell_type": "markdown",
   "metadata": {},
   "source": [
    "### Evaluate\n",
    "***"
   ]
  },
  {
   "cell_type": "code",
   "execution_count": 11,
   "metadata": {},
   "outputs": [
    {
     "name": "stdout",
     "output_type": "stream",
     "text": [
      "Silhouette with squared euclidean distance = 0.9801751868431847\n"
     ]
    }
   ],
   "source": [
    "from pyspark.ml.evaluation import ClusteringEvaluator\n",
    "\n",
    "evaluator = ClusteringEvaluator()\n",
    "silhouette = evaluator.evaluate(prediction)\n",
    "print(\"Silhouette with squared euclidean distance = \" + str(silhouette))"
   ]
  },
  {
   "cell_type": "markdown",
   "metadata": {},
   "source": [
    "### Cluster Center\n",
    "***"
   ]
  },
  {
   "cell_type": "code",
   "execution_count": 12,
   "metadata": {},
   "outputs": [
    {
     "name": "stdout",
     "output_type": "stream",
     "text": [
      "Cluster Centers: \n",
      "[2.01600000e+03 1.01321493e+00]\n",
      "[2.01400000e+03 1.01278249e+00]\n",
      "[2.01500000e+03 1.01179659e+00]\n",
      "[2014.            3.21428571]\n",
      "[2015.61016949    3.33898305]\n"
     ]
    }
   ],
   "source": [
    "centers = model.clusterCenters()\n",
    "print(\"Cluster Centers: \")\n",
    "for center in centers:\n",
    "    print(center)"
   ]
  },
  {
   "cell_type": "markdown",
   "metadata": {},
   "source": [
    "### Visualization\n",
    "***"
   ]
  },
  {
   "cell_type": "code",
   "execution_count": 13,
   "metadata": {
    "scrolled": true
   },
   "outputs": [
    {
     "name": "stdout",
     "output_type": "stream",
     "text": [
      "Pixiedust database opened successfully\n"
     ]
    },
    {
     "data": {
      "text/html": [
       "\n",
       "        <div style=\"margin:10px\">\n",
       "            <a href=\"https://github.com/ibm-watson-data-lab/pixiedust\" target=\"_new\">\n",
       "                <img src=\"https://github.com/ibm-watson-data-lab/pixiedust/raw/master/docs/_static/pd_icon32.png\" style=\"float:left;margin-right:10px\"/>\n",
       "            </a>\n",
       "            <span>Pixiedust version 1.1.15</span>\n",
       "        </div>\n",
       "        "
      ],
      "text/plain": [
       "<IPython.core.display.HTML object>"
      ]
     },
     "metadata": {},
     "output_type": "display_data"
    }
   ],
   "source": [
    "import pixiedust"
   ]
  },
  {
   "cell_type": "code",
   "execution_count": null,
   "metadata": {
    "pixiedust": {
     "displayParams": {
      "aggregation": "SUM",
      "chartsize": "100",
      "clusterby": "Year",
      "handlerId": "barChart",
      "keyFields": "Year",
      "rendererId": "seaborn",
      "timeseries": "false",
      "valueFields": "Number of Vehicles Involved"
     }
    }
   },
   "outputs": [
    {
     "data": {
      "text/html": [
       "<style type=\"text/css\">.pd_warning{display:none;}</style><div class=\"pd_warning\"><em>Hey, there's something awesome here! To see it, open this notebook outside GitHub, in a viewer like Jupyter</em></div>\n",
       "        <div class=\"pd_save is-viewer-good\" style=\"padding-right:10px;text-align: center;line-height:initial !important;font-size: xx-large;font-weight: 500;color: coral;\">\n",
       "            \n",
       "        </div>\n",
       "    <div id=\"chartFigure475f6f8a\" class=\"pd_save is-viewer-good\" style=\"overflow-x:auto\">\n",
       "            \n",
       "                    \n",
       "                            <center><img style=\"max-width:initial !important\" src=\"data:image/png;base64,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\" class=\"pd_save\"></center>\n",
       "                        \n",
       "                    \n",
       "                        <div>Filtered option clusterby with value Year. Reason Cluster By value is already used in keys or values for this chart</div>\n",
       "                    \n",
       "                \n",
       "        </div>"
      ],
      "text/plain": [
       "<IPython.core.display.HTML object>"
      ]
     },
     "metadata": {},
     "output_type": "display_data"
    }
   ],
   "source": [
    "display(prediction)"
   ]
  },
  {
   "cell_type": "markdown",
   "metadata": {},
   "source": [
    "### Cluster 2\n",
    "***"
   ]
  },
  {
   "cell_type": "code",
   "execution_count": 17,
   "metadata": {},
   "outputs": [
    {
     "name": "stdout",
     "output_type": "stream",
     "text": [
      "+--------------------+------+\n",
      "|    Event Descriptor|Jumlah|\n",
      "+--------------------+------+\n",
      "|Crash Cushion, Co...|   515|\n",
      "|Barrier, Collisio...|  3568|\n",
      "|Culver/Head Wall,...|  1091|\n",
      "|Guide Rail - End,...|  2463|\n",
      "|Animal, Collision...|  8510|\n",
      "|Fire Hydrant, Col...|  1441|\n",
      "|    Other Pedestrian|   726|\n",
      "|Building/Wall, Co...|  5286|\n",
      "|Tree, Collision W...| 17224|\n",
      "|Ran Off Roadway O...|  2025|\n",
      "|Snow Embankment, ...|  4788|\n",
      "|             Unknown|  1170|\n",
      "|Other Object (Not...|  8045|\n",
      "|Submersion, Non-C...|   151|\n",
      "|Fence, Collision ...|  3178|\n",
      "|Median - Not At E...|  2564|\n",
      "|Median - End, Col...|   316|\n",
      "|Pedestrian, Colli...| 41109|\n",
      "|Light Support/Uti...| 18120|\n",
      "|Earth Embankment/...| 20633|\n",
      "+--------------------+------+\n",
      "only showing top 20 rows\n",
      "\n"
     ]
    }
   ],
   "source": [
    "query = spark.sql(\"SELECT `Event Descriptor`, COUNT(`Event Descriptor`) AS Jumlah \\\n",
    "          FROM crashes  \\\n",
    "          GROUP BY `Event Descriptor`\\\n",
    "          \")\n",
    "query.show()"
   ]
  },
  {
   "cell_type": "markdown",
   "metadata": {},
   "source": [
    "### Vector Assembler\n",
    "***"
   ]
  },
  {
   "cell_type": "code",
   "execution_count": 18,
   "metadata": {},
   "outputs": [
    {
     "name": "stdout",
     "output_type": "stream",
     "text": [
      "+--------------------+------+---------+\n",
      "|    Event Descriptor|Jumlah| features|\n",
      "+--------------------+------+---------+\n",
      "|Crash Cushion, Co...|   515|  [515.0]|\n",
      "|Barrier, Collisio...|  3568| [3568.0]|\n",
      "|Culver/Head Wall,...|  1091| [1091.0]|\n",
      "|Guide Rail - End,...|  2463| [2463.0]|\n",
      "|Animal, Collision...|  8510| [8510.0]|\n",
      "|Fire Hydrant, Col...|  1441| [1441.0]|\n",
      "|    Other Pedestrian|   726|  [726.0]|\n",
      "|Building/Wall, Co...|  5286| [5286.0]|\n",
      "|Tree, Collision W...| 17224|[17224.0]|\n",
      "|Ran Off Roadway O...|  2025| [2025.0]|\n",
      "|Snow Embankment, ...|  4788| [4788.0]|\n",
      "|             Unknown|  1170| [1170.0]|\n",
      "|Other Object (Not...|  8045| [8045.0]|\n",
      "|Submersion, Non-C...|   151|  [151.0]|\n",
      "|Fence, Collision ...|  3178| [3178.0]|\n",
      "|Median - Not At E...|  2564| [2564.0]|\n",
      "|Median - End, Col...|   316|  [316.0]|\n",
      "|Pedestrian, Colli...| 41109|[41109.0]|\n",
      "|Light Support/Uti...| 18120|[18120.0]|\n",
      "|Earth Embankment/...| 20633|[20633.0]|\n",
      "+--------------------+------+---------+\n",
      "only showing top 20 rows\n",
      "\n"
     ]
    }
   ],
   "source": [
    "from pyspark.ml.feature import VectorAssembler\n",
    "\n",
    "\n",
    "assembler = VectorAssembler(\n",
    "    inputCols=[\"Jumlah\"],\n",
    "    outputCol='features')\n",
    "\n",
    "query = assembler.transform(query)\n",
    "query.show()"
   ]
  },
  {
   "cell_type": "markdown",
   "metadata": {},
   "source": [
    "### kMeans\n",
    "***"
   ]
  },
  {
   "cell_type": "code",
   "execution_count": 23,
   "metadata": {},
   "outputs": [],
   "source": [
    "from pyspark.ml.clustering import KMeans\n",
    "\n",
    "kmeans = KMeans().setK(5).setSeed(1)\n",
    "model = kmeans.fit(query)"
   ]
  },
  {
   "cell_type": "markdown",
   "metadata": {},
   "source": [
    "### Predictions\n",
    "***"
   ]
  },
  {
   "cell_type": "code",
   "execution_count": 25,
   "metadata": {},
   "outputs": [
    {
     "name": "stdout",
     "output_type": "stream",
     "text": [
      "+--------------------+------+---------+----------+\n",
      "|    Event Descriptor|Jumlah| features|prediction|\n",
      "+--------------------+------+---------+----------+\n",
      "|Crash Cushion, Co...|   515|  [515.0]|         0|\n",
      "|Barrier, Collisio...|  3568| [3568.0]|         0|\n",
      "|Culver/Head Wall,...|  1091| [1091.0]|         0|\n",
      "|Guide Rail - End,...|  2463| [2463.0]|         0|\n",
      "|Animal, Collision...|  8510| [8510.0]|         0|\n",
      "|Fire Hydrant, Col...|  1441| [1441.0]|         0|\n",
      "|    Other Pedestrian|   726|  [726.0]|         0|\n",
      "|Building/Wall, Co...|  5286| [5286.0]|         0|\n",
      "|Tree, Collision W...| 17224|[17224.0]|         2|\n",
      "|Ran Off Roadway O...|  2025| [2025.0]|         0|\n",
      "|Snow Embankment, ...|  4788| [4788.0]|         0|\n",
      "|             Unknown|  1170| [1170.0]|         0|\n",
      "|Other Object (Not...|  8045| [8045.0]|         0|\n",
      "|Submersion, Non-C...|   151|  [151.0]|         0|\n",
      "|Fence, Collision ...|  3178| [3178.0]|         0|\n",
      "|Median - Not At E...|  2564| [2564.0]|         0|\n",
      "|Median - End, Col...|   316|  [316.0]|         0|\n",
      "|Pedestrian, Colli...| 41109|[41109.0]|         3|\n",
      "|Light Support/Uti...| 18120|[18120.0]|         2|\n",
      "|Earth Embankment/...| 20633|[20633.0]|         2|\n",
      "+--------------------+------+---------+----------+\n",
      "only showing top 20 rows\n",
      "\n"
     ]
    }
   ],
   "source": [
    "predictions = model.transform(query)\n",
    "predictions.show()"
   ]
  },
  {
   "cell_type": "markdown",
   "metadata": {},
   "source": [
    "### Evaluate\n",
    "***"
   ]
  },
  {
   "cell_type": "code",
   "execution_count": 26,
   "metadata": {},
   "outputs": [
    {
     "name": "stdout",
     "output_type": "stream",
     "text": [
      "Silhouette with squared euclidean distance = 0.9270001213302528\n"
     ]
    }
   ],
   "source": [
    "from pyspark.ml.evaluation import ClusteringEvaluator\n",
    "\n",
    "evaluator = ClusteringEvaluator()\n",
    "silhouette = evaluator.evaluate(predictions)\n",
    "print(\"Silhouette with squared euclidean distance = \" + str(silhouette))"
   ]
  },
  {
   "cell_type": "markdown",
   "metadata": {},
   "source": [
    "### Cluster Center\n",
    "***"
   ]
  },
  {
   "cell_type": "code",
   "execution_count": 27,
   "metadata": {},
   "outputs": [
    {
     "name": "stdout",
     "output_type": "stream",
     "text": [
      "Cluster Centers: \n",
      "[3190.76]\n",
      "[609589.]\n",
      "[19487.4]\n",
      "[41109.]\n",
      "[68012.]\n"
     ]
    }
   ],
   "source": [
    "centers = model.clusterCenters()\n",
    "print(\"Cluster Centers: \")\n",
    "for center in centers:\n",
    "    print(center)"
   ]
  },
  {
   "cell_type": "markdown",
   "metadata": {},
   "source": [
    "### Vizualitation\n",
    "***"
   ]
  },
  {
   "cell_type": "code",
   "execution_count": 28,
   "metadata": {},
   "outputs": [],
   "source": [
    "import pixiedust"
   ]
  },
  {
   "cell_type": "code",
   "execution_count": null,
   "metadata": {
    "pixiedust": {
     "displayParams": {
      "handlerId": "barChart",
      "keyFields": "prediction",
      "valueFields": "Jumlah"
     }
    }
   },
   "outputs": [
    {
     "data": {
      "text/html": [
       "<style type=\"text/css\">.pd_warning{display:none;}</style><div class=\"pd_warning\"><em>Hey, there's something awesome here! To see it, open this notebook outside GitHub, in a viewer like Jupyter</em></div>\n",
       "        <div class=\"pd_save is-viewer-good\" style=\"padding-right:10px;text-align: center;line-height:initial !important;font-size: xx-large;font-weight: 500;color: coral;\">\n",
       "            \n",
       "        </div>\n",
       "    <div id=\"chartFigure3a047a10\" class=\"pd_save is-viewer-good\" style=\"overflow-x:auto\">\n",
       "            \n",
       "                    \n",
       "                            <center><img style=\"max-width:initial !important\" src=\"data:image/png;base64,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\" class=\"pd_save\"></center>\n",
       "                        \n",
       "                    \n",
       "                \n",
       "        </div>"
      ],
      "text/plain": [
       "<IPython.core.display.HTML object>"
      ]
     },
     "metadata": {},
     "output_type": "display_data"
    }
   ],
   "source": [
    "display(predictions)"
   ]
  }
 ],
 "metadata": {
  "kernelspec": {
   "display_name": "Python 3",
   "language": "python",
   "name": "python3"
  },
  "language_info": {
   "codemirror_mode": {
    "name": "ipython",
    "version": 3
   },
   "file_extension": ".py",
   "mimetype": "text/x-python",
   "name": "python",
   "nbconvert_exporter": "python",
   "pygments_lexer": "ipython3",
   "version": "3.6.7"
  }
 },
 "nbformat": 4,
 "nbformat_minor": 2
}
