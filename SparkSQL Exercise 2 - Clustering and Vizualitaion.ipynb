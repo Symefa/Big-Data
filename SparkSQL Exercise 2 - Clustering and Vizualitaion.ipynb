{
 "cells": [
  {
   "cell_type": "markdown",
   "metadata": {},
   "source": [
    "# Tugas Clustering Apache Spark"
   ]
  },
  {
   "cell_type": "markdown",
   "metadata": {},
   "source": [
    "Datasets: [NYS Motor Vehicle Crashes and Insurance Reduction](https://www.kaggle.com/new-york-state/nys-motor-vehicle-crashes-and-insurance-reduction)"
   ]
  },
  {
   "cell_type": "markdown",
   "metadata": {},
   "source": [
    "### Initialization\n",
    "***"
   ]
  },
  {
   "cell_type": "code",
   "execution_count": 1,
   "metadata": {},
   "outputs": [],
   "source": [
    "import findspark\n",
    "\n",
    "findspark.init()"
   ]
  },
  {
   "cell_type": "code",
   "execution_count": 2,
   "metadata": {},
   "outputs": [],
   "source": [
    "from pyspark.sql import SparkSession\n",
    "\n",
    "spark = SparkSession \\\n",
    "    .builder \\\n",
    "    .appName(\"Python Spark SQL basic example\") \\\n",
    "    .getOrCreate()"
   ]
  },
  {
   "cell_type": "code",
   "execution_count": 3,
   "metadata": {
    "scrolled": true
   },
   "outputs": [
    {
     "name": "stdout",
     "output_type": "stream",
     "text": [
      "<pyspark.sql.session.SparkSession object at 0x000001F49CE9C160>\n"
     ]
    }
   ],
   "source": [
    "print(spark)"
   ]
  },
  {
   "cell_type": "markdown",
   "metadata": {},
   "source": [
    "### Loading datasets\n",
    "***"
   ]
  },
  {
   "cell_type": "code",
   "execution_count": 4,
   "metadata": {},
   "outputs": [
    {
     "data": {
      "text/plain": [
       "895916"
      ]
     },
     "execution_count": 4,
     "metadata": {},
     "output_type": "execute_result"
    }
   ],
   "source": [
    "df1 = spark.read.csv(\"C:/Users/Symefa/Desktop/Big-Data/datasets/crash.csv\", header=True, inferSchema=True)\n",
    "\n",
    "df1.count()"
   ]
  },
  {
   "cell_type": "markdown",
   "metadata": {},
   "source": [
    "### Schema Fix\n",
    "***"
   ]
  },
  {
   "cell_type": "code",
   "execution_count": 5,
   "metadata": {},
   "outputs": [
    {
     "name": "stdout",
     "output_type": "stream",
     "text": [
      "root\n",
      " |-- Year: integer (nullable = true)\n",
      " |-- Crash Descriptor: string (nullable = true)\n",
      " |-- Time: string (nullable = true)\n",
      " |-- Date: timestamp (nullable = true)\n",
      " |-- Day of Week: string (nullable = true)\n",
      " |-- Police Report: string (nullable = true)\n",
      " |-- Lighting Conditions: string (nullable = true)\n",
      " |-- Municipality: string (nullable = true)\n",
      " |-- Collision Type Descriptor: string (nullable = true)\n",
      " |-- County Name: string (nullable = true)\n",
      " |-- Road Descriptor: string (nullable = true)\n",
      " |-- Weather Conditions: string (nullable = true)\n",
      " |-- Traffic Control Device: string (nullable = true)\n",
      " |-- Road Surface Conditions: string (nullable = true)\n",
      " |-- DOT Reference Marker Location: string (nullable = true)\n",
      " |-- Pedestrian Bicyclist Action: string (nullable = true)\n",
      " |-- Event Descriptor: string (nullable = true)\n",
      " |-- Number of Vehicles Involved: integer (nullable = true)\n",
      "\n"
     ]
    }
   ],
   "source": [
    "df1.printSchema()"
   ]
  },
  {
   "cell_type": "markdown",
   "metadata": {},
   "source": [
    "### Converting To SparkSQL Datatype\n",
    "***"
   ]
  },
  {
   "cell_type": "code",
   "execution_count": 6,
   "metadata": {},
   "outputs": [],
   "source": [
    "df1.createOrReplaceTempView('crashes')"
   ]
  },
  {
   "cell_type": "markdown",
   "metadata": {},
   "source": [
    "### Clustering 1\n",
    "***"
   ]
  },
  {
   "cell_type": "markdown",
   "metadata": {},
   "source": [
    "* Ranking kecelakaan terjadi pada jam"
   ]
  },
  {
   "cell_type": "code",
   "execution_count": 7,
   "metadata": {
    "scrolled": true
   },
   "outputs": [
    {
     "name": "stdout",
     "output_type": "stream",
     "text": [
      "+----+---------------------------+----+------------+--------------------+\n",
      "|Year|Number of Vehicles Involved|Time|Municipality|    Event Descriptor|\n",
      "+----+---------------------------+----+------------+--------------------+\n",
      "|2016|                          1|0:00|    NEW YORK|Pedestrian, Colli...|\n",
      "|2016|                          1|0:00|      QUEENS|Pedestrian, Colli...|\n",
      "|2016|                          1|0:00|       KINGS|Pedestrian, Colli...|\n",
      "|2016|                          1|0:00|       KINGS|Pedestrian, Colli...|\n",
      "|2016|                          1|0:00|       BRONX|Pedestrian, Colli...|\n",
      "|2016|                          1|0:00|       BRONX|Pedestrian, Colli...|\n",
      "|2016|                          1|0:00|       KINGS|Pedestrian, Colli...|\n",
      "|2016|                          1|0:00|       KINGS|Pedestrian, Colli...|\n",
      "|2016|                          1|0:00|       KINGS|Pedestrian, Colli...|\n",
      "|2016|                          1|0:00|   ROCHESTER|Pedestrian, Colli...|\n",
      "|2016|                          1|0:00|    NEW YORK|Pedestrian, Colli...|\n",
      "|2016|                          1|0:00|      QUEENS|Pedestrian, Colli...|\n",
      "|2016|                          1|0:00|      QUEENS|Pedestrian, Colli...|\n",
      "|2016|                          1|0:00|      QUEENS|Pedestrian, Colli...|\n",
      "|2016|                          1|0:00|    NEW YORK|Pedestrian, Colli...|\n",
      "|2016|                          1|0:00|      QUEENS|Pedestrian, Colli...|\n",
      "|2016|                          1|0:00|      QUEENS|Pedestrian, Colli...|\n",
      "|2016|                          1|0:00|     BUFFALO|Pedestrian, Colli...|\n",
      "|2016|                          1|0:00|    NEW YORK|Pedestrian, Colli...|\n",
      "|2016|                          1|0:00|  LAKE GROVE|Pedestrian, Colli...|\n",
      "+----+---------------------------+----+------------+--------------------+\n",
      "only showing top 20 rows\n",
      "\n"
     ]
    }
   ],
   "source": [
    "query = spark.sql(\"SELECT `Year`,`Number of Vehicles Involved`,`Time`, `Municipality`, `Event Descriptor` \\\n",
    "          FROM crashes  \\\n",
    "          WHERE `Event Descriptor` LIKE 'Pedestrian%'\\\n",
    "          ORDER BY Time ASC\\\n",
    "          \")\n",
    "query.show()"
   ]
  },
  {
   "cell_type": "markdown",
   "metadata": {},
   "source": [
    "### Vectoring\n",
    "***"
   ]
  },
  {
   "cell_type": "code",
   "execution_count": 8,
   "metadata": {
    "scrolled": true
   },
   "outputs": [
    {
     "name": "stdout",
     "output_type": "stream",
     "text": [
      "+----+---------------------------+----+------------+--------------------+------------+\n",
      "|Year|Number of Vehicles Involved|Time|Municipality|    Event Descriptor|    features|\n",
      "+----+---------------------------+----+------------+--------------------+------------+\n",
      "|2015|                          1|0:00|       KINGS|Pedestrian, Colli...|[2015.0,1.0]|\n",
      "|2015|                          1|0:00|    NEW YORK|Pedestrian, Colli...|[2015.0,1.0]|\n",
      "|2015|                          1|0:00|    NEW YORK|Pedestrian, Colli...|[2015.0,1.0]|\n",
      "|2015|                          1|0:00|      QUEENS|Pedestrian, Colli...|[2015.0,1.0]|\n",
      "|2015|                          1|0:00|       KINGS|Pedestrian, Colli...|[2015.0,1.0]|\n",
      "|2015|                          1|0:00|    NEW YORK|Pedestrian, Colli...|[2015.0,1.0]|\n",
      "|2015|                          1|0:00|       KINGS|Pedestrian, Colli...|[2015.0,1.0]|\n",
      "|2015|                          1|0:00|       BRONX|Pedestrian, Colli...|[2015.0,1.0]|\n",
      "|2015|                          1|0:00|       KINGS|Pedestrian, Colli...|[2015.0,1.0]|\n",
      "|2015|                          1|0:00|    NEW YORK|Pedestrian, Colli...|[2015.0,1.0]|\n",
      "|2015|                          1|0:00|      QUEENS|Pedestrian, Colli...|[2015.0,1.0]|\n",
      "|2015|                          1|0:00|      QUEENS|Pedestrian, Colli...|[2015.0,1.0]|\n",
      "|2015|                          1|0:00|      QUEENS|Pedestrian, Colli...|[2015.0,1.0]|\n",
      "|2015|                          1|0:00|       KINGS|Pedestrian, Colli...|[2015.0,1.0]|\n",
      "|2015|                          1|0:00|       KINGS|Pedestrian, Colli...|[2015.0,1.0]|\n",
      "|2015|                          1|0:00|      QUEENS|Pedestrian, Colli...|[2015.0,1.0]|\n",
      "|2015|                          1|0:00|    NEW YORK|Pedestrian, Colli...|[2015.0,1.0]|\n",
      "|2015|                          1|0:00|       KINGS|Pedestrian, Colli...|[2015.0,1.0]|\n",
      "|2015|                          1|0:00|    OSSINING|Pedestrian, Colli...|[2015.0,1.0]|\n",
      "|2015|                          2|0:00|       KINGS|Pedestrian, Colli...|[2015.0,2.0]|\n",
      "+----+---------------------------+----+------------+--------------------+------------+\n",
      "only showing top 20 rows\n",
      "\n"
     ]
    }
   ],
   "source": [
    "from pyspark.ml.feature import VectorAssembler\n",
    "\n",
    "assembler = VectorAssembler(\n",
    "    inputCols=[\"Year\",\"Number of Vehicles Involved\"],\n",
    "    outputCol='features')\n",
    "\n",
    "query = assembler.transform(query)\n",
    "query.show()"
   ]
  },
  {
   "cell_type": "markdown",
   "metadata": {},
   "source": [
    "### kMeans\n",
    "***"
   ]
  },
  {
   "cell_type": "code",
   "execution_count": 9,
   "metadata": {},
   "outputs": [],
   "source": [
    "from pyspark.ml.clustering import KMeans\n",
    "\n",
    "kmeans = KMeans().setK(5).setSeed(1)\n",
    "model = kmeans.fit(query)"
   ]
  },
  {
   "cell_type": "markdown",
   "metadata": {},
   "source": [
    "### Markdown\n",
    "***"
   ]
  },
  {
   "cell_type": "code",
   "execution_count": 10,
   "metadata": {},
   "outputs": [
    {
     "name": "stdout",
     "output_type": "stream",
     "text": [
      "+----+---------------------------+----+------------+--------------------+------------+----------+\n",
      "|Year|Number of Vehicles Involved|Time|Municipality|    Event Descriptor|    features|prediction|\n",
      "+----+---------------------------+----+------------+--------------------+------------+----------+\n",
      "|2015|                          1|0:00|       KINGS|Pedestrian, Colli...|[2015.0,1.0]|         2|\n",
      "|2015|                          1|0:00|    NEW YORK|Pedestrian, Colli...|[2015.0,1.0]|         2|\n",
      "|2015|                          1|0:00|    NEW YORK|Pedestrian, Colli...|[2015.0,1.0]|         2|\n",
      "|2015|                          1|0:00|      QUEENS|Pedestrian, Colli...|[2015.0,1.0]|         2|\n",
      "|2015|                          1|0:00|       KINGS|Pedestrian, Colli...|[2015.0,1.0]|         2|\n",
      "|2015|                          1|0:00|    NEW YORK|Pedestrian, Colli...|[2015.0,1.0]|         2|\n",
      "|2015|                          1|0:00|       KINGS|Pedestrian, Colli...|[2015.0,1.0]|         2|\n",
      "|2015|                          1|0:00|       BRONX|Pedestrian, Colli...|[2015.0,1.0]|         2|\n",
      "|2015|                          1|0:00|       KINGS|Pedestrian, Colli...|[2015.0,1.0]|         2|\n",
      "|2015|                          1|0:00|    NEW YORK|Pedestrian, Colli...|[2015.0,1.0]|         2|\n",
      "|2015|                          1|0:00|      QUEENS|Pedestrian, Colli...|[2015.0,1.0]|         2|\n",
      "|2015|                          1|0:00|      QUEENS|Pedestrian, Colli...|[2015.0,1.0]|         2|\n",
      "|2015|                          1|0:00|      QUEENS|Pedestrian, Colli...|[2015.0,1.0]|         2|\n",
      "|2015|                          1|0:00|       KINGS|Pedestrian, Colli...|[2015.0,1.0]|         2|\n",
      "|2015|                          1|0:00|       KINGS|Pedestrian, Colli...|[2015.0,1.0]|         2|\n",
      "|2015|                          1|0:00|      QUEENS|Pedestrian, Colli...|[2015.0,1.0]|         2|\n",
      "|2015|                          1|0:00|    NEW YORK|Pedestrian, Colli...|[2015.0,1.0]|         2|\n",
      "|2015|                          1|0:00|       KINGS|Pedestrian, Colli...|[2015.0,1.0]|         2|\n",
      "|2015|                          1|0:00|    OSSINING|Pedestrian, Colli...|[2015.0,1.0]|         2|\n",
      "|2015|                          2|0:00|       KINGS|Pedestrian, Colli...|[2015.0,2.0]|         2|\n",
      "+----+---------------------------+----+------------+--------------------+------------+----------+\n",
      "only showing top 20 rows\n",
      "\n"
     ]
    }
   ],
   "source": [
    "prediction = model.transform(query)\n",
    "prediction.show()"
   ]
  },
  {
   "cell_type": "markdown",
   "metadata": {},
   "source": [
    "### Evaluate\n",
    "***"
   ]
  },
  {
   "cell_type": "code",
   "execution_count": 11,
   "metadata": {},
   "outputs": [
    {
     "name": "stdout",
     "output_type": "stream",
     "text": [
      "Silhouette with squared euclidean distance = 0.9801751868431847\n"
     ]
    }
   ],
   "source": [
    "from pyspark.ml.evaluation import ClusteringEvaluator\n",
    "\n",
    "evaluator = ClusteringEvaluator()\n",
    "silhouette = evaluator.evaluate(prediction)\n",
    "print(\"Silhouette with squared euclidean distance = \" + str(silhouette))"
   ]
  },
  {
   "cell_type": "markdown",
   "metadata": {},
   "source": [
    "### Cluster Center\n",
    "***"
   ]
  },
  {
   "cell_type": "code",
   "execution_count": 12,
   "metadata": {},
   "outputs": [
    {
     "name": "stdout",
     "output_type": "stream",
     "text": [
      "Cluster Centers: \n",
      "[2.01600000e+03 1.01321493e+00]\n",
      "[2.01400000e+03 1.01278249e+00]\n",
      "[2.01500000e+03 1.01179659e+00]\n",
      "[2014.            3.21428571]\n",
      "[2015.61016949    3.33898305]\n"
     ]
    }
   ],
   "source": [
    "centers = model.clusterCenters()\n",
    "print(\"Cluster Centers: \")\n",
    "for center in centers:\n",
    "    print(center)"
   ]
  },
  {
   "cell_type": "markdown",
   "metadata": {},
   "source": [
    "### Visualization\n",
    "***"
   ]
  },
  {
   "cell_type": "code",
   "execution_count": 13,
   "metadata": {
    "scrolled": true
   },
   "outputs": [
    {
     "name": "stdout",
     "output_type": "stream",
     "text": [
      "Pixiedust database opened successfully\n"
     ]
    },
    {
     "data": {
      "text/html": [
       "\n",
       "        <div style=\"margin:10px\">\n",
       "            <a href=\"https://github.com/ibm-watson-data-lab/pixiedust\" target=\"_new\">\n",
       "                <img src=\"https://github.com/ibm-watson-data-lab/pixiedust/raw/master/docs/_static/pd_icon32.png\" style=\"float:left;margin-right:10px\"/>\n",
       "            </a>\n",
       "            <span>Pixiedust version 1.1.15</span>\n",
       "        </div>\n",
       "        "
      ],
      "text/plain": [
       "<IPython.core.display.HTML object>"
      ]
     },
     "metadata": {},
     "output_type": "display_data"
    }
   ],
   "source": [
    "import pixiedust"
   ]
  },
  {
   "cell_type": "code",
   "execution_count": null,
   "metadata": {
    "pixiedust": {
     "displayParams": {
      "aggregation": "SUM",
      "chartsize": "100",
      "clusterby": "Year",
      "handlerId": "barChart",
      "keyFields": "Year",
      "rendererId": "seaborn",
      "timeseries": "false",
      "valueFields": "Number of Vehicles Involved"
     }
    }
   },
   "outputs": [
    {
     "data": {
      "text/html": [
       "<style type=\"text/css\">.pd_warning{display:none;}</style><div class=\"pd_warning\"><em>Hey, there's something awesome here! To see it, open this notebook outside GitHub, in a viewer like Jupyter</em></div>\n",
       "        <div class=\"pd_save is-viewer-good\" style=\"padding-right:10px;text-align: center;line-height:initial !important;font-size: xx-large;font-weight: 500;color: coral;\">\n",
       "            \n",
       "        </div>\n",
       "    <div id=\"chartFigure475f6f8a\" class=\"pd_save is-viewer-good\" style=\"overflow-x:auto\">\n",
       "            \n",
       "                    \n",
       "                            <center><img style=\"max-width:initial !important\" src=\"data:image/png;base64,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\" class=\"pd_save\"></center>\n",
       "                        \n",
       "                    \n",
       "                        <div>Filtered option clusterby with value Year. Reason Cluster By value is already used in keys or values for this chart</div>\n",
       "                    \n",
       "                \n",
       "        </div>"
      ],
      "text/plain": [
       "<IPython.core.display.HTML object>"
      ]
     },
     "metadata": {},
     "output_type": "display_data"
    }
   ],
   "source": [
    "display(prediction)"
   ]
  },
  {
   "cell_type": "markdown",
   "metadata": {},
   "source": [
    "### Cluster 2\n",
    "***"
   ]
  },
  {
   "cell_type": "code",
   "execution_count": 17,
   "metadata": {},
   "outputs": [
    {
     "name": "stdout",
     "output_type": "stream",
     "text": [
      "+--------------------+------+\n",
      "|    Event Descriptor|Jumlah|\n",
      "+--------------------+------+\n",
      "|Crash Cushion, Co...|   515|\n",
      "|Barrier, Collisio...|  3568|\n",
      "|Culver/Head Wall,...|  1091|\n",
      "|Guide Rail - End,...|  2463|\n",
      "|Animal, Collision...|  8510|\n",
      "|Fire Hydrant, Col...|  1441|\n",
      "|    Other Pedestrian|   726|\n",
      "|Building/Wall, Co...|  5286|\n",
      "|Tree, Collision W...| 17224|\n",
      "|Ran Off Roadway O...|  2025|\n",
      "|Snow Embankment, ...|  4788|\n",
      "|             Unknown|  1170|\n",
      "|Other Object (Not...|  8045|\n",
      "|Submersion, Non-C...|   151|\n",
      "|Fence, Collision ...|  3178|\n",
      "|Median - Not At E...|  2564|\n",
      "|Median - End, Col...|   316|\n",
      "|Pedestrian, Colli...| 41109|\n",
      "|Light Support/Uti...| 18120|\n",
      "|Earth Embankment/...| 20633|\n",
      "+--------------------+------+\n",
      "only showing top 20 rows\n",
      "\n"
     ]
    }
   ],
   "source": [
    "query = spark.sql(\"SELECT `Event Descriptor`, COUNT(`Event Descriptor`) AS Jumlah \\\n",
    "          FROM crashes  \\\n",
    "          GROUP BY `Event Descriptor`\\\n",
    "          \")\n",
    "query.show()"
   ]
  },
  {
   "cell_type": "markdown",
   "metadata": {},
   "source": [
    "### Vector Assembler\n",
    "***"
   ]
  },
  {
   "cell_type": "code",
   "execution_count": 18,
   "metadata": {},
   "outputs": [
    {
     "name": "stdout",
     "output_type": "stream",
     "text": [
      "+--------------------+------+---------+\n",
      "|    Event Descriptor|Jumlah| features|\n",
      "+--------------------+------+---------+\n",
      "|Crash Cushion, Co...|   515|  [515.0]|\n",
      "|Barrier, Collisio...|  3568| [3568.0]|\n",
      "|Culver/Head Wall,...|  1091| [1091.0]|\n",
      "|Guide Rail - End,...|  2463| [2463.0]|\n",
      "|Animal, Collision...|  8510| [8510.0]|\n",
      "|Fire Hydrant, Col...|  1441| [1441.0]|\n",
      "|    Other Pedestrian|   726|  [726.0]|\n",
      "|Building/Wall, Co...|  5286| [5286.0]|\n",
      "|Tree, Collision W...| 17224|[17224.0]|\n",
      "|Ran Off Roadway O...|  2025| [2025.0]|\n",
      "|Snow Embankment, ...|  4788| [4788.0]|\n",
      "|             Unknown|  1170| [1170.0]|\n",
      "|Other Object (Not...|  8045| [8045.0]|\n",
      "|Submersion, Non-C...|   151|  [151.0]|\n",
      "|Fence, Collision ...|  3178| [3178.0]|\n",
      "|Median - Not At E...|  2564| [2564.0]|\n",
      "|Median - End, Col...|   316|  [316.0]|\n",
      "|Pedestrian, Colli...| 41109|[41109.0]|\n",
      "|Light Support/Uti...| 18120|[18120.0]|\n",
      "|Earth Embankment/...| 20633|[20633.0]|\n",
      "+--------------------+------+---------+\n",
      "only showing top 20 rows\n",
      "\n"
     ]
    }
   ],
   "source": [
    "from pyspark.ml.feature import VectorAssembler\n",
    "\n",
    "\n",
    "assembler = VectorAssembler(\n",
    "    inputCols=[\"Jumlah\"],\n",
    "    outputCol='features')\n",
    "\n",
    "query = assembler.transform(query)\n",
    "query.show()"
   ]
  },
  {
   "cell_type": "markdown",
   "metadata": {},
   "source": [
    "### kMeans\n",
    "***"
   ]
  },
  {
   "cell_type": "code",
   "execution_count": 23,
   "metadata": {},
   "outputs": [],
   "source": [
    "from pyspark.ml.clustering import KMeans\n",
    "\n",
    "kmeans = KMeans().setK(5).setSeed(1)\n",
    "model = kmeans.fit(query)"
   ]
  },
  {
   "cell_type": "markdown",
   "metadata": {},
   "source": [
    "### Predictions\n",
    "***"
   ]
  },
  {
   "cell_type": "code",
   "execution_count": 25,
   "metadata": {},
   "outputs": [
    {
     "name": "stdout",
     "output_type": "stream",
     "text": [
      "+--------------------+------+---------+----------+\n",
      "|    Event Descriptor|Jumlah| features|prediction|\n",
      "+--------------------+------+---------+----------+\n",
      "|Crash Cushion, Co...|   515|  [515.0]|         0|\n",
      "|Barrier, Collisio...|  3568| [3568.0]|         0|\n",
      "|Culver/Head Wall,...|  1091| [1091.0]|         0|\n",
      "|Guide Rail - End,...|  2463| [2463.0]|         0|\n",
      "|Animal, Collision...|  8510| [8510.0]|         0|\n",
      "|Fire Hydrant, Col...|  1441| [1441.0]|         0|\n",
      "|    Other Pedestrian|   726|  [726.0]|         0|\n",
      "|Building/Wall, Co...|  5286| [5286.0]|         0|\n",
      "|Tree, Collision W...| 17224|[17224.0]|         2|\n",
      "|Ran Off Roadway O...|  2025| [2025.0]|         0|\n",
      "|Snow Embankment, ...|  4788| [4788.0]|         0|\n",
      "|             Unknown|  1170| [1170.0]|         0|\n",
      "|Other Object (Not...|  8045| [8045.0]|         0|\n",
      "|Submersion, Non-C...|   151|  [151.0]|         0|\n",
      "|Fence, Collision ...|  3178| [3178.0]|         0|\n",
      "|Median - Not At E...|  2564| [2564.0]|         0|\n",
      "|Median - End, Col...|   316|  [316.0]|         0|\n",
      "|Pedestrian, Colli...| 41109|[41109.0]|         3|\n",
      "|Light Support/Uti...| 18120|[18120.0]|         2|\n",
      "|Earth Embankment/...| 20633|[20633.0]|         2|\n",
      "+--------------------+------+---------+----------+\n",
      "only showing top 20 rows\n",
      "\n"
     ]
    }
   ],
   "source": [
    "predictions = model.transform(query)\n",
    "predictions.show()"
   ]
  },
  {
   "cell_type": "markdown",
   "metadata": {},
   "source": [
    "### Evaluate\n",
    "***"
   ]
  },
  {
   "cell_type": "code",
   "execution_count": 26,
   "metadata": {},
   "outputs": [
    {
     "name": "stdout",
     "output_type": "stream",
     "text": [
      "Silhouette with squared euclidean distance = 0.9270001213302528\n"
     ]
    }
   ],
   "source": [
    "from pyspark.ml.evaluation import ClusteringEvaluator\n",
    "\n",
    "evaluator = ClusteringEvaluator()\n",
    "silhouette = evaluator.evaluate(predictions)\n",
    "print(\"Silhouette with squared euclidean distance = \" + str(silhouette))"
   ]
  },
  {
   "cell_type": "markdown",
   "metadata": {},
   "source": [
    "### Cluster Center\n",
    "***"
   ]
  },
  {
   "cell_type": "code",
   "execution_count": 27,
   "metadata": {},
   "outputs": [
    {
     "name": "stdout",
     "output_type": "stream",
     "text": [
      "Cluster Centers: \n",
      "[3190.76]\n",
      "[609589.]\n",
      "[19487.4]\n",
      "[41109.]\n",
      "[68012.]\n"
     ]
    }
   ],
   "source": [
    "centers = model.clusterCenters()\n",
    "print(\"Cluster Centers: \")\n",
    "for center in centers:\n",
    "    print(center)"
   ]
  },
  {
   "cell_type": "markdown",
   "metadata": {},
   "source": [
    "### Vizualitation\n",
    "***"
   ]
  },
  {
   "cell_type": "code",
   "execution_count": 28,
   "metadata": {},
   "outputs": [],
   "source": [
    "import pixiedust"
   ]
  },
  {
   "cell_type": "code",
   "execution_count": null,
   "metadata": {},
   "outputs": [],
   "source": [
    "display(prediction)"
   ]
  }
 ],
 "metadata": {
  "kernelspec": {
   "display_name": "Python 3",
   "language": "python",
   "name": "python3"
  },
  "language_info": {
   "codemirror_mode": {
    "name": "ipython",
    "version": 3
   },
   "file_extension": ".py",
   "mimetype": "text/x-python",
   "name": "python",
   "nbconvert_exporter": "python",
   "pygments_lexer": "ipython3",
   "version": "3.6.7"
  }
 },
 "nbformat": 4,
 "nbformat_minor": 2
}
