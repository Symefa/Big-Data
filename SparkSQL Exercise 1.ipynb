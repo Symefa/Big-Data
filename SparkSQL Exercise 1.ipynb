{
 "cells": [
  {
   "cell_type": "markdown",
   "metadata": {},
   "source": [
    "# Tugas Pengenalan Apache Spark"
   ]
  },
  {
   "cell_type": "markdown",
   "metadata": {},
   "source": [
    "### Initialization\n",
    "***"
   ]
  },
  {
   "cell_type": "code",
   "execution_count": 5,
   "metadata": {},
   "outputs": [],
   "source": [
    "import findspark\n",
    "\n",
    "findspark.init()"
   ]
  },
  {
   "cell_type": "code",
   "execution_count": 6,
   "metadata": {},
   "outputs": [],
   "source": [
    "from pyspark.sql import SparkSession\n",
    "\n",
    "spark = SparkSession \\\n",
    "    .builder \\\n",
    "    .appName(\"Python Spark SQL basic example\") \\\n",
    "    .getOrCreate()"
   ]
  },
  {
   "cell_type": "code",
   "execution_count": 7,
   "metadata": {
    "scrolled": true
   },
   "outputs": [
    {
     "name": "stdout",
     "output_type": "stream",
     "text": [
      "<pyspark.sql.session.SparkSession object at 0x00000000066B6C50>\n"
     ]
    }
   ],
   "source": [
    "print(spark)"
   ]
  },
  {
   "cell_type": "markdown",
   "metadata": {},
   "source": [
    "### Loading datasets\n",
    "***"
   ]
  },
  {
   "cell_type": "code",
   "execution_count": 29,
   "metadata": {},
   "outputs": [
    {
     "data": {
      "text/plain": [
       "895916"
      ]
     },
     "execution_count": 29,
     "metadata": {},
     "output_type": "execute_result"
    }
   ],
   "source": [
    "df1 = spark.read.csv(\"C:/Users/Symefa/Desktop/Big-Data/datasets/crash.csv\", header=True, inferSchema=True)\n",
    "\n",
    "df1.count()"
   ]
  },
  {
   "cell_type": "markdown",
   "metadata": {},
   "source": [
    "### Schema Fix\n",
    "***"
   ]
  },
  {
   "cell_type": "code",
   "execution_count": 42,
   "metadata": {},
   "outputs": [
    {
     "name": "stdout",
     "output_type": "stream",
     "text": [
      "root\n",
      " |-- Year: integer (nullable = true)\n",
      " |-- Crash Descriptor: string (nullable = true)\n",
      " |-- Time: string (nullable = true)\n",
      " |-- Date: timestamp (nullable = true)\n",
      " |-- Day of Week: string (nullable = true)\n",
      " |-- Police Report: string (nullable = true)\n",
      " |-- Lighting Conditions: string (nullable = true)\n",
      " |-- Municipality: string (nullable = true)\n",
      " |-- Collision Type Descriptor: string (nullable = true)\n",
      " |-- County Name: string (nullable = true)\n",
      " |-- Road Descriptor: string (nullable = true)\n",
      " |-- Weather Conditions: string (nullable = true)\n",
      " |-- Traffic Control Device: string (nullable = true)\n",
      " |-- Road Surface Conditions: string (nullable = true)\n",
      " |-- DOT Reference Marker Location: string (nullable = true)\n",
      " |-- Pedestrian Bicyclist Action: string (nullable = true)\n",
      " |-- Event Descriptor: string (nullable = true)\n",
      " |-- Number of Vehicles Involved: integer (nullable = true)\n",
      "\n"
     ]
    }
   ],
   "source": [
    "df1.printSchema()"
   ]
  },
  {
   "cell_type": "markdown",
   "metadata": {},
   "source": [
    "### Converting To SparkSQL Datatype\n",
    "***"
   ]
  },
  {
   "cell_type": "code",
   "execution_count": 43,
   "metadata": {},
   "outputs": [],
   "source": [
    "df1.createOrReplaceTempView('crashes')"
   ]
  },
  {
   "cell_type": "code",
   "execution_count": 44,
   "metadata": {},
   "outputs": [
    {
     "name": "stdout",
     "output_type": "stream",
     "text": [
      "+------------+\n",
      "| County Name|\n",
      "+------------+\n",
      "|      FULTON|\n",
      "|ST. LAWRENCE|\n",
      "| CATTARAUGUS|\n",
      "|     STEUBEN|\n",
      "|       YATES|\n",
      "|       KINGS|\n",
      "|      OSWEGO|\n",
      "|     MADISON|\n",
      "|   JEFFERSON|\n",
      "|  CHAUTAUQUA|\n",
      "| SCHENECTADY|\n",
      "|      WARREN|\n",
      "|    ROCKLAND|\n",
      "|       TIOGA|\n",
      "|    ALLEGANY|\n",
      "|      MONROE|\n",
      "|      SENECA|\n",
      "|    ONONDAGA|\n",
      "|       LEWIS|\n",
      "|      QUEENS|\n",
      "+------------+\n",
      "only showing top 20 rows\n",
      "\n"
     ]
    }
   ],
   "source": [
    "spark.sql(\"SELECT DISTINCT `County Name` FROM crashes\").show()"
   ]
  },
  {
   "cell_type": "markdown",
   "metadata": {},
   "source": [
    "### Data Mining Process\n",
    "***"
   ]
  },
  {
   "cell_type": "markdown",
   "metadata": {},
   "source": [
    "* Banyak Kecelakaan Per County"
   ]
  },
  {
   "cell_type": "code",
   "execution_count": 40,
   "metadata": {},
   "outputs": [
    {
     "name": "stdout",
     "output_type": "stream",
     "text": [
      "+-----------+------------------+\n",
      "|     County|Number of Accident|\n",
      "+-----------+------------------+\n",
      "|     NASSAU|             98984|\n",
      "|    SUFFOLK|             95967|\n",
      "|     QUEENS|             59875|\n",
      "|      KINGS|             58611|\n",
      "|       ERIE|             51708|\n",
      "|WESTCHESTER|             44336|\n",
      "|     MONROE|             42098|\n",
      "|   NEW YORK|             35752|\n",
      "|      BRONX|             32411|\n",
      "|   ONONDAGA|             29183|\n",
      "|     ORANGE|             28860|\n",
      "|     ALBANY|             24543|\n",
      "|   ROCKLAND|             19754|\n",
      "|   DUTCHESS|             17181|\n",
      "|   SARATOGA|             14138|\n",
      "|     ONEIDA|             13215|\n",
      "|     ULSTER|             12909|\n",
      "|     BROOME|             11794|\n",
      "|   RICHMOND|             11486|\n",
      "|    NIAGARA|             11170|\n",
      "+-----------+------------------+\n",
      "only showing top 20 rows\n",
      "\n"
     ]
    }
   ],
   "source": [
    "spark.sql(\"SELECT `County Name` AS County, COUNT(`County Name`) AS `Number of Accident`\\\n",
    "          FROM crashes \\\n",
    "          GROUP BY `County Name` \\\n",
    "          ORDER BY COUNT(`County Name`) DESC \\\n",
    "          \").show()"
   ]
  },
  {
   "cell_type": "markdown",
   "metadata": {},
   "source": [
    "* Banyak Kecelakaan per-Jam"
   ]
  },
  {
   "cell_type": "code",
   "execution_count": null,
   "metadata": {},
   "outputs": [],
   "source": [
    "spark.sql(\"SELECT Time \\\n",
    "          FROM crashes \\\n",
    "          PARTITION BY `Time` \\\n",
    "          ORDER BY COUNT(`County Name`) DESC \\\n",
    "          \").show()"
   ]
  }
 ],
 "metadata": {
  "kernelspec": {
   "display_name": "Python 2",
   "language": "python",
   "name": "python2"
  }
 },
 "nbformat": 4,
 "nbformat_minor": 2
}
